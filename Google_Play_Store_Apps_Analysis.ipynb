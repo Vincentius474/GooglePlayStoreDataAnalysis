{
 "cells": [
  {
   "cell_type": "code",
   "execution_count": 1,
   "id": "435a7e7a-344a-427a-99e8-d1885d0c759e",
   "metadata": {},
   "outputs": [],
   "source": [
    "import pandas as pd\n",
    "pd.set_option(\"display.max_columns\",None)\n",
    "import numpy as np"
   ]
  },
  {
   "cell_type": "code",
   "execution_count": 2,
   "id": "5fb4a64f-007b-4f40-af94-390ddce97c61",
   "metadata": {},
   "outputs": [],
   "source": [
    "# read the data and create a data frame\n",
    "df = pd.read_csv(\"Input Files/googleplaystore.csv\")"
   ]
  },
  {
   "cell_type": "code",
   "execution_count": 5,
   "id": "472cc0fa-9c8d-494c-b7af-6d5fb71d00db",
   "metadata": {},
   "outputs": [
    {
     "name": "stdout",
     "output_type": "stream",
     "text": [
      "                                                     App             Category  \\\n",
      "0         Photo Editor & Candy Camera & Grid & ScrapBook       ART_AND_DESIGN   \n",
      "1                                    Coloring book moana       ART_AND_DESIGN   \n",
      "2      U Launcher Lite – FREE Live Cool Themes, Hide ...       ART_AND_DESIGN   \n",
      "3                                  Sketch - Draw & Paint       ART_AND_DESIGN   \n",
      "4                  Pixel Draw - Number Art Coloring Book       ART_AND_DESIGN   \n",
      "...                                                  ...                  ...   \n",
      "10836                                   Sya9a Maroc - FR               FAMILY   \n",
      "10837                   Fr. Mike Schmitz Audio Teachings               FAMILY   \n",
      "10838                             Parkinson Exercices FR              MEDICAL   \n",
      "10839                      The SCP Foundation DB fr nn5n  BOOKS_AND_REFERENCE   \n",
      "10840      iHoroscope - 2018 Daily Horoscope & Astrology            LIFESTYLE   \n",
      "\n",
      "       Rating Reviews                Size     Installs  Type Price  \\\n",
      "0         4.1     159                 19M      10,000+  Free     0   \n",
      "1         3.9     967                 14M     500,000+  Free     0   \n",
      "2         4.7   87510                8.7M   5,000,000+  Free     0   \n",
      "3         4.5  215644                 25M  50,000,000+  Free     0   \n",
      "4         4.3     967                2.8M     100,000+  Free     0   \n",
      "...       ...     ...                 ...          ...   ...   ...   \n",
      "10836     4.5      38                 53M       5,000+  Free     0   \n",
      "10837     5.0       4                3.6M         100+  Free     0   \n",
      "10838     NaN       3                9.5M       1,000+  Free     0   \n",
      "10839     4.5     114  Varies with device       1,000+  Free     0   \n",
      "10840     4.5  398307                 19M  10,000,000+  Free     0   \n",
      "\n",
      "      Content Rating                     Genres      Last Updated  \\\n",
      "0           Everyone               Art & Design   January 7, 2018   \n",
      "1           Everyone  Art & Design;Pretend Play  January 15, 2018   \n",
      "2           Everyone               Art & Design    August 1, 2018   \n",
      "3               Teen               Art & Design      June 8, 2018   \n",
      "4           Everyone    Art & Design;Creativity     June 20, 2018   \n",
      "...              ...                        ...               ...   \n",
      "10836       Everyone                  Education     July 25, 2017   \n",
      "10837       Everyone                  Education      July 6, 2018   \n",
      "10838       Everyone                    Medical  January 20, 2017   \n",
      "10839     Mature 17+          Books & Reference  January 19, 2015   \n",
      "10840       Everyone                  Lifestyle     July 25, 2018   \n",
      "\n",
      "              Current Ver         Android Ver  \n",
      "0                   1.0.0        4.0.3 and up  \n",
      "1                   2.0.0        4.0.3 and up  \n",
      "2                   1.2.4        4.0.3 and up  \n",
      "3      Varies with device          4.2 and up  \n",
      "4                     1.1          4.4 and up  \n",
      "...                   ...                 ...  \n",
      "10836                1.48          4.1 and up  \n",
      "10837                 1.0          4.1 and up  \n",
      "10838                 1.0          2.2 and up  \n",
      "10839  Varies with device  Varies with device  \n",
      "10840  Varies with device  Varies with device  \n",
      "\n",
      "[10841 rows x 13 columns]\n"
     ]
    }
   ],
   "source": [
    "# Display the dataframe\n",
    "print(df)"
   ]
  },
  {
   "cell_type": "code",
   "execution_count": 6,
   "id": "de237744-95b1-47f6-b23a-dfbfe4140d41",
   "metadata": {},
   "outputs": [
    {
     "data": {
      "text/plain": [
       "(10841, 13)"
      ]
     },
     "execution_count": 6,
     "metadata": {},
     "output_type": "execute_result"
    }
   ],
   "source": [
    "#1. Find the shape of the dataset, number or rows and columns\n",
    "np.shape(df)"
   ]
  },
  {
   "cell_type": "code",
   "execution_count": 7,
   "id": "aaa02cbb-32e9-4c7b-b548-c41b8d4b8506",
   "metadata": {},
   "outputs": [
    {
     "name": "stdout",
     "output_type": "stream",
     "text": [
      "Total # of apps : 10841\n",
      "Total # of columns : 13\n"
     ]
    }
   ],
   "source": [
    "#1. Find the number of apps in google play store and columns (shape)\n",
    "df.shape\n",
    "print(f'Total # of apps : {df.shape[0]}')\n",
    "print(f'Total # of columns : {df.shape[1]}')"
   ]
  },
  {
   "cell_type": "code",
   "execution_count": 8,
   "id": "e2ea1d62-e95a-4f6d-813c-dd3d4862fe03",
   "metadata": {},
   "outputs": [
    {
     "data": {
      "text/html": [
       "<div>\n",
       "<style scoped>\n",
       "    .dataframe tbody tr th:only-of-type {\n",
       "        vertical-align: middle;\n",
       "    }\n",
       "\n",
       "    .dataframe tbody tr th {\n",
       "        vertical-align: top;\n",
       "    }\n",
       "\n",
       "    .dataframe thead th {\n",
       "        text-align: right;\n",
       "    }\n",
       "</style>\n",
       "<table border=\"1\" class=\"dataframe\">\n",
       "  <thead>\n",
       "    <tr style=\"text-align: right;\">\n",
       "      <th></th>\n",
       "      <th>App</th>\n",
       "      <th>Category</th>\n",
       "      <th>Rating</th>\n",
       "      <th>Reviews</th>\n",
       "      <th>Size</th>\n",
       "      <th>Installs</th>\n",
       "      <th>Type</th>\n",
       "      <th>Price</th>\n",
       "      <th>Content Rating</th>\n",
       "      <th>Genres</th>\n",
       "      <th>Last Updated</th>\n",
       "      <th>Current Ver</th>\n",
       "      <th>Android Ver</th>\n",
       "    </tr>\n",
       "  </thead>\n",
       "  <tbody>\n",
       "    <tr>\n",
       "      <th>0</th>\n",
       "      <td>Photo Editor &amp; Candy Camera &amp; Grid &amp; ScrapBook</td>\n",
       "      <td>ART_AND_DESIGN</td>\n",
       "      <td>4.1</td>\n",
       "      <td>159</td>\n",
       "      <td>19M</td>\n",
       "      <td>10,000+</td>\n",
       "      <td>Free</td>\n",
       "      <td>0</td>\n",
       "      <td>Everyone</td>\n",
       "      <td>Art &amp; Design</td>\n",
       "      <td>January 7, 2018</td>\n",
       "      <td>1.0.0</td>\n",
       "      <td>4.0.3 and up</td>\n",
       "    </tr>\n",
       "    <tr>\n",
       "      <th>1</th>\n",
       "      <td>Coloring book moana</td>\n",
       "      <td>ART_AND_DESIGN</td>\n",
       "      <td>3.9</td>\n",
       "      <td>967</td>\n",
       "      <td>14M</td>\n",
       "      <td>500,000+</td>\n",
       "      <td>Free</td>\n",
       "      <td>0</td>\n",
       "      <td>Everyone</td>\n",
       "      <td>Art &amp; Design;Pretend Play</td>\n",
       "      <td>January 15, 2018</td>\n",
       "      <td>2.0.0</td>\n",
       "      <td>4.0.3 and up</td>\n",
       "    </tr>\n",
       "    <tr>\n",
       "      <th>2</th>\n",
       "      <td>U Launcher Lite – FREE Live Cool Themes, Hide ...</td>\n",
       "      <td>ART_AND_DESIGN</td>\n",
       "      <td>4.7</td>\n",
       "      <td>87510</td>\n",
       "      <td>8.7M</td>\n",
       "      <td>5,000,000+</td>\n",
       "      <td>Free</td>\n",
       "      <td>0</td>\n",
       "      <td>Everyone</td>\n",
       "      <td>Art &amp; Design</td>\n",
       "      <td>August 1, 2018</td>\n",
       "      <td>1.2.4</td>\n",
       "      <td>4.0.3 and up</td>\n",
       "    </tr>\n",
       "    <tr>\n",
       "      <th>3</th>\n",
       "      <td>Sketch - Draw &amp; Paint</td>\n",
       "      <td>ART_AND_DESIGN</td>\n",
       "      <td>4.5</td>\n",
       "      <td>215644</td>\n",
       "      <td>25M</td>\n",
       "      <td>50,000,000+</td>\n",
       "      <td>Free</td>\n",
       "      <td>0</td>\n",
       "      <td>Teen</td>\n",
       "      <td>Art &amp; Design</td>\n",
       "      <td>June 8, 2018</td>\n",
       "      <td>Varies with device</td>\n",
       "      <td>4.2 and up</td>\n",
       "    </tr>\n",
       "    <tr>\n",
       "      <th>4</th>\n",
       "      <td>Pixel Draw - Number Art Coloring Book</td>\n",
       "      <td>ART_AND_DESIGN</td>\n",
       "      <td>4.3</td>\n",
       "      <td>967</td>\n",
       "      <td>2.8M</td>\n",
       "      <td>100,000+</td>\n",
       "      <td>Free</td>\n",
       "      <td>0</td>\n",
       "      <td>Everyone</td>\n",
       "      <td>Art &amp; Design;Creativity</td>\n",
       "      <td>June 20, 2018</td>\n",
       "      <td>1.1</td>\n",
       "      <td>4.4 and up</td>\n",
       "    </tr>\n",
       "  </tbody>\n",
       "</table>\n",
       "</div>"
      ],
      "text/plain": [
       "                                                 App        Category  Rating  \\\n",
       "0     Photo Editor & Candy Camera & Grid & ScrapBook  ART_AND_DESIGN     4.1   \n",
       "1                                Coloring book moana  ART_AND_DESIGN     3.9   \n",
       "2  U Launcher Lite – FREE Live Cool Themes, Hide ...  ART_AND_DESIGN     4.7   \n",
       "3                              Sketch - Draw & Paint  ART_AND_DESIGN     4.5   \n",
       "4              Pixel Draw - Number Art Coloring Book  ART_AND_DESIGN     4.3   \n",
       "\n",
       "  Reviews  Size     Installs  Type Price Content Rating  \\\n",
       "0     159   19M      10,000+  Free     0       Everyone   \n",
       "1     967   14M     500,000+  Free     0       Everyone   \n",
       "2   87510  8.7M   5,000,000+  Free     0       Everyone   \n",
       "3  215644   25M  50,000,000+  Free     0           Teen   \n",
       "4     967  2.8M     100,000+  Free     0       Everyone   \n",
       "\n",
       "                      Genres      Last Updated         Current Ver  \\\n",
       "0               Art & Design   January 7, 2018               1.0.0   \n",
       "1  Art & Design;Pretend Play  January 15, 2018               2.0.0   \n",
       "2               Art & Design    August 1, 2018               1.2.4   \n",
       "3               Art & Design      June 8, 2018  Varies with device   \n",
       "4    Art & Design;Creativity     June 20, 2018                 1.1   \n",
       "\n",
       "    Android Ver  \n",
       "0  4.0.3 and up  \n",
       "1  4.0.3 and up  \n",
       "2  4.0.3 and up  \n",
       "3    4.2 and up  \n",
       "4    4.4 and up  "
      ]
     },
     "execution_count": 8,
     "metadata": {},
     "output_type": "execute_result"
    }
   ],
   "source": [
    "#2. Top 5 rows \n",
    "df.head(5)"
   ]
  },
  {
   "cell_type": "code",
   "execution_count": 10,
   "id": "9fd9a5f6-4835-4496-8cd5-aeb02e76d2b6",
   "metadata": {},
   "outputs": [
    {
     "data": {
      "text/html": [
       "<div>\n",
       "<style scoped>\n",
       "    .dataframe tbody tr th:only-of-type {\n",
       "        vertical-align: middle;\n",
       "    }\n",
       "\n",
       "    .dataframe tbody tr th {\n",
       "        vertical-align: top;\n",
       "    }\n",
       "\n",
       "    .dataframe thead th {\n",
       "        text-align: right;\n",
       "    }\n",
       "</style>\n",
       "<table border=\"1\" class=\"dataframe\">\n",
       "  <thead>\n",
       "    <tr style=\"text-align: right;\">\n",
       "      <th></th>\n",
       "      <th>App</th>\n",
       "      <th>Category</th>\n",
       "      <th>Rating</th>\n",
       "      <th>Reviews</th>\n",
       "      <th>Size</th>\n",
       "      <th>Installs</th>\n",
       "      <th>Type</th>\n",
       "      <th>Price</th>\n",
       "      <th>Content Rating</th>\n",
       "      <th>Genres</th>\n",
       "      <th>Last Updated</th>\n",
       "      <th>Current Ver</th>\n",
       "      <th>Android Ver</th>\n",
       "    </tr>\n",
       "  </thead>\n",
       "  <tbody>\n",
       "    <tr>\n",
       "      <th>10838</th>\n",
       "      <td>Parkinson Exercices FR</td>\n",
       "      <td>MEDICAL</td>\n",
       "      <td>NaN</td>\n",
       "      <td>3</td>\n",
       "      <td>9.5M</td>\n",
       "      <td>1,000+</td>\n",
       "      <td>Free</td>\n",
       "      <td>0</td>\n",
       "      <td>Everyone</td>\n",
       "      <td>Medical</td>\n",
       "      <td>January 20, 2017</td>\n",
       "      <td>1.0</td>\n",
       "      <td>2.2 and up</td>\n",
       "    </tr>\n",
       "    <tr>\n",
       "      <th>10839</th>\n",
       "      <td>The SCP Foundation DB fr nn5n</td>\n",
       "      <td>BOOKS_AND_REFERENCE</td>\n",
       "      <td>4.5</td>\n",
       "      <td>114</td>\n",
       "      <td>Varies with device</td>\n",
       "      <td>1,000+</td>\n",
       "      <td>Free</td>\n",
       "      <td>0</td>\n",
       "      <td>Mature 17+</td>\n",
       "      <td>Books &amp; Reference</td>\n",
       "      <td>January 19, 2015</td>\n",
       "      <td>Varies with device</td>\n",
       "      <td>Varies with device</td>\n",
       "    </tr>\n",
       "    <tr>\n",
       "      <th>10840</th>\n",
       "      <td>iHoroscope - 2018 Daily Horoscope &amp; Astrology</td>\n",
       "      <td>LIFESTYLE</td>\n",
       "      <td>4.5</td>\n",
       "      <td>398307</td>\n",
       "      <td>19M</td>\n",
       "      <td>10,000,000+</td>\n",
       "      <td>Free</td>\n",
       "      <td>0</td>\n",
       "      <td>Everyone</td>\n",
       "      <td>Lifestyle</td>\n",
       "      <td>July 25, 2018</td>\n",
       "      <td>Varies with device</td>\n",
       "      <td>Varies with device</td>\n",
       "    </tr>\n",
       "  </tbody>\n",
       "</table>\n",
       "</div>"
      ],
      "text/plain": [
       "                                                 App             Category  \\\n",
       "10838                         Parkinson Exercices FR              MEDICAL   \n",
       "10839                  The SCP Foundation DB fr nn5n  BOOKS_AND_REFERENCE   \n",
       "10840  iHoroscope - 2018 Daily Horoscope & Astrology            LIFESTYLE   \n",
       "\n",
       "       Rating Reviews                Size     Installs  Type Price  \\\n",
       "10838     NaN       3                9.5M       1,000+  Free     0   \n",
       "10839     4.5     114  Varies with device       1,000+  Free     0   \n",
       "10840     4.5  398307                 19M  10,000,000+  Free     0   \n",
       "\n",
       "      Content Rating             Genres      Last Updated         Current Ver  \\\n",
       "10838       Everyone            Medical  January 20, 2017                 1.0   \n",
       "10839     Mature 17+  Books & Reference  January 19, 2015  Varies with device   \n",
       "10840       Everyone          Lifestyle     July 25, 2018  Varies with device   \n",
       "\n",
       "              Android Ver  \n",
       "10838          2.2 and up  \n",
       "10839  Varies with device  \n",
       "10840  Varies with device  "
      ]
     },
     "execution_count": 10,
     "metadata": {},
     "output_type": "execute_result"
    }
   ],
   "source": [
    "#3. Bottom 3 rows\n",
    "df.tail(3)"
   ]
  },
  {
   "cell_type": "code",
   "execution_count": 11,
   "id": "14454888-9905-48b2-aed1-58fec037b527",
   "metadata": {},
   "outputs": [
    {
     "name": "stdout",
     "output_type": "stream",
     "text": [
      "<class 'pandas.core.frame.DataFrame'>\n",
      "RangeIndex: 10841 entries, 0 to 10840\n",
      "Data columns (total 13 columns):\n",
      " #   Column          Non-Null Count  Dtype  \n",
      "---  ------          --------------  -----  \n",
      " 0   App             10841 non-null  object \n",
      " 1   Category        10841 non-null  object \n",
      " 2   Rating          9367 non-null   float64\n",
      " 3   Reviews         10841 non-null  object \n",
      " 4   Size            10841 non-null  object \n",
      " 5   Installs        10841 non-null  object \n",
      " 6   Type            10840 non-null  object \n",
      " 7   Price           10841 non-null  object \n",
      " 8   Content Rating  10840 non-null  object \n",
      " 9   Genres          10841 non-null  object \n",
      " 10  Last Updated    10841 non-null  object \n",
      " 11  Current Ver     10833 non-null  object \n",
      " 12  Android Ver     10838 non-null  object \n",
      "dtypes: float64(1), object(12)\n",
      "memory usage: 1.1+ MB\n"
     ]
    }
   ],
   "source": [
    "#4. Get the information about the dataset\n",
    "# Datatype of each column and memory usage\n",
    "df.info()"
   ]
  },
  {
   "cell_type": "code",
   "execution_count": 12,
   "id": "f18e663f-6207-4732-af09-a33d552de20d",
   "metadata": {},
   "outputs": [
    {
     "data": {
      "text/html": [
       "<div>\n",
       "<style scoped>\n",
       "    .dataframe tbody tr th:only-of-type {\n",
       "        vertical-align: middle;\n",
       "    }\n",
       "\n",
       "    .dataframe tbody tr th {\n",
       "        vertical-align: top;\n",
       "    }\n",
       "\n",
       "    .dataframe thead th {\n",
       "        text-align: right;\n",
       "    }\n",
       "</style>\n",
       "<table border=\"1\" class=\"dataframe\">\n",
       "  <thead>\n",
       "    <tr style=\"text-align: right;\">\n",
       "      <th></th>\n",
       "      <th>Rating</th>\n",
       "    </tr>\n",
       "  </thead>\n",
       "  <tbody>\n",
       "    <tr>\n",
       "      <th>count</th>\n",
       "      <td>9367.000000</td>\n",
       "    </tr>\n",
       "    <tr>\n",
       "      <th>mean</th>\n",
       "      <td>4.193338</td>\n",
       "    </tr>\n",
       "    <tr>\n",
       "      <th>std</th>\n",
       "      <td>0.537431</td>\n",
       "    </tr>\n",
       "    <tr>\n",
       "      <th>min</th>\n",
       "      <td>1.000000</td>\n",
       "    </tr>\n",
       "    <tr>\n",
       "      <th>25%</th>\n",
       "      <td>4.000000</td>\n",
       "    </tr>\n",
       "    <tr>\n",
       "      <th>50%</th>\n",
       "      <td>4.300000</td>\n",
       "    </tr>\n",
       "    <tr>\n",
       "      <th>75%</th>\n",
       "      <td>4.500000</td>\n",
       "    </tr>\n",
       "    <tr>\n",
       "      <th>max</th>\n",
       "      <td>19.000000</td>\n",
       "    </tr>\n",
       "  </tbody>\n",
       "</table>\n",
       "</div>"
      ],
      "text/plain": [
       "            Rating\n",
       "count  9367.000000\n",
       "mean      4.193338\n",
       "std       0.537431\n",
       "min       1.000000\n",
       "25%       4.000000\n",
       "50%       4.300000\n",
       "75%       4.500000\n",
       "max      19.000000"
      ]
     },
     "execution_count": 12,
     "metadata": {},
     "output_type": "execute_result"
    }
   ],
   "source": [
    "#5. Getting the descriptive statistics about the dataset\n",
    "# This only gives descriptive statistics information about the numerical column 'Rating' and not other columns \n",
    "df.describe()"
   ]
  },
  {
   "cell_type": "code",
   "execution_count": 13,
   "id": "83de28fc-6efe-419a-9008-bcc332174a2d",
   "metadata": {},
   "outputs": [
    {
     "data": {
      "text/html": [
       "<div>\n",
       "<style scoped>\n",
       "    .dataframe tbody tr th:only-of-type {\n",
       "        vertical-align: middle;\n",
       "    }\n",
       "\n",
       "    .dataframe tbody tr th {\n",
       "        vertical-align: top;\n",
       "    }\n",
       "\n",
       "    .dataframe thead th {\n",
       "        text-align: right;\n",
       "    }\n",
       "</style>\n",
       "<table border=\"1\" class=\"dataframe\">\n",
       "  <thead>\n",
       "    <tr style=\"text-align: right;\">\n",
       "      <th></th>\n",
       "      <th>App</th>\n",
       "      <th>Category</th>\n",
       "      <th>Rating</th>\n",
       "      <th>Reviews</th>\n",
       "      <th>Size</th>\n",
       "      <th>Installs</th>\n",
       "      <th>Type</th>\n",
       "      <th>Price</th>\n",
       "      <th>Content Rating</th>\n",
       "      <th>Genres</th>\n",
       "      <th>Last Updated</th>\n",
       "      <th>Current Ver</th>\n",
       "      <th>Android Ver</th>\n",
       "    </tr>\n",
       "  </thead>\n",
       "  <tbody>\n",
       "    <tr>\n",
       "      <th>count</th>\n",
       "      <td>10841</td>\n",
       "      <td>10841</td>\n",
       "      <td>9367.000000</td>\n",
       "      <td>10841</td>\n",
       "      <td>10841</td>\n",
       "      <td>10841</td>\n",
       "      <td>10840</td>\n",
       "      <td>10841</td>\n",
       "      <td>10840</td>\n",
       "      <td>10841</td>\n",
       "      <td>10841</td>\n",
       "      <td>10833</td>\n",
       "      <td>10838</td>\n",
       "    </tr>\n",
       "    <tr>\n",
       "      <th>unique</th>\n",
       "      <td>9660</td>\n",
       "      <td>34</td>\n",
       "      <td>NaN</td>\n",
       "      <td>6002</td>\n",
       "      <td>462</td>\n",
       "      <td>22</td>\n",
       "      <td>3</td>\n",
       "      <td>93</td>\n",
       "      <td>6</td>\n",
       "      <td>120</td>\n",
       "      <td>1378</td>\n",
       "      <td>2832</td>\n",
       "      <td>33</td>\n",
       "    </tr>\n",
       "    <tr>\n",
       "      <th>top</th>\n",
       "      <td>ROBLOX</td>\n",
       "      <td>FAMILY</td>\n",
       "      <td>NaN</td>\n",
       "      <td>0</td>\n",
       "      <td>Varies with device</td>\n",
       "      <td>1,000,000+</td>\n",
       "      <td>Free</td>\n",
       "      <td>0</td>\n",
       "      <td>Everyone</td>\n",
       "      <td>Tools</td>\n",
       "      <td>August 3, 2018</td>\n",
       "      <td>Varies with device</td>\n",
       "      <td>4.1 and up</td>\n",
       "    </tr>\n",
       "    <tr>\n",
       "      <th>freq</th>\n",
       "      <td>9</td>\n",
       "      <td>1972</td>\n",
       "      <td>NaN</td>\n",
       "      <td>596</td>\n",
       "      <td>1695</td>\n",
       "      <td>1579</td>\n",
       "      <td>10039</td>\n",
       "      <td>10040</td>\n",
       "      <td>8714</td>\n",
       "      <td>842</td>\n",
       "      <td>326</td>\n",
       "      <td>1459</td>\n",
       "      <td>2451</td>\n",
       "    </tr>\n",
       "    <tr>\n",
       "      <th>mean</th>\n",
       "      <td>NaN</td>\n",
       "      <td>NaN</td>\n",
       "      <td>4.193338</td>\n",
       "      <td>NaN</td>\n",
       "      <td>NaN</td>\n",
       "      <td>NaN</td>\n",
       "      <td>NaN</td>\n",
       "      <td>NaN</td>\n",
       "      <td>NaN</td>\n",
       "      <td>NaN</td>\n",
       "      <td>NaN</td>\n",
       "      <td>NaN</td>\n",
       "      <td>NaN</td>\n",
       "    </tr>\n",
       "    <tr>\n",
       "      <th>std</th>\n",
       "      <td>NaN</td>\n",
       "      <td>NaN</td>\n",
       "      <td>0.537431</td>\n",
       "      <td>NaN</td>\n",
       "      <td>NaN</td>\n",
       "      <td>NaN</td>\n",
       "      <td>NaN</td>\n",
       "      <td>NaN</td>\n",
       "      <td>NaN</td>\n",
       "      <td>NaN</td>\n",
       "      <td>NaN</td>\n",
       "      <td>NaN</td>\n",
       "      <td>NaN</td>\n",
       "    </tr>\n",
       "    <tr>\n",
       "      <th>min</th>\n",
       "      <td>NaN</td>\n",
       "      <td>NaN</td>\n",
       "      <td>1.000000</td>\n",
       "      <td>NaN</td>\n",
       "      <td>NaN</td>\n",
       "      <td>NaN</td>\n",
       "      <td>NaN</td>\n",
       "      <td>NaN</td>\n",
       "      <td>NaN</td>\n",
       "      <td>NaN</td>\n",
       "      <td>NaN</td>\n",
       "      <td>NaN</td>\n",
       "      <td>NaN</td>\n",
       "    </tr>\n",
       "    <tr>\n",
       "      <th>25%</th>\n",
       "      <td>NaN</td>\n",
       "      <td>NaN</td>\n",
       "      <td>4.000000</td>\n",
       "      <td>NaN</td>\n",
       "      <td>NaN</td>\n",
       "      <td>NaN</td>\n",
       "      <td>NaN</td>\n",
       "      <td>NaN</td>\n",
       "      <td>NaN</td>\n",
       "      <td>NaN</td>\n",
       "      <td>NaN</td>\n",
       "      <td>NaN</td>\n",
       "      <td>NaN</td>\n",
       "    </tr>\n",
       "    <tr>\n",
       "      <th>50%</th>\n",
       "      <td>NaN</td>\n",
       "      <td>NaN</td>\n",
       "      <td>4.300000</td>\n",
       "      <td>NaN</td>\n",
       "      <td>NaN</td>\n",
       "      <td>NaN</td>\n",
       "      <td>NaN</td>\n",
       "      <td>NaN</td>\n",
       "      <td>NaN</td>\n",
       "      <td>NaN</td>\n",
       "      <td>NaN</td>\n",
       "      <td>NaN</td>\n",
       "      <td>NaN</td>\n",
       "    </tr>\n",
       "    <tr>\n",
       "      <th>75%</th>\n",
       "      <td>NaN</td>\n",
       "      <td>NaN</td>\n",
       "      <td>4.500000</td>\n",
       "      <td>NaN</td>\n",
       "      <td>NaN</td>\n",
       "      <td>NaN</td>\n",
       "      <td>NaN</td>\n",
       "      <td>NaN</td>\n",
       "      <td>NaN</td>\n",
       "      <td>NaN</td>\n",
       "      <td>NaN</td>\n",
       "      <td>NaN</td>\n",
       "      <td>NaN</td>\n",
       "    </tr>\n",
       "    <tr>\n",
       "      <th>max</th>\n",
       "      <td>NaN</td>\n",
       "      <td>NaN</td>\n",
       "      <td>19.000000</td>\n",
       "      <td>NaN</td>\n",
       "      <td>NaN</td>\n",
       "      <td>NaN</td>\n",
       "      <td>NaN</td>\n",
       "      <td>NaN</td>\n",
       "      <td>NaN</td>\n",
       "      <td>NaN</td>\n",
       "      <td>NaN</td>\n",
       "      <td>NaN</td>\n",
       "      <td>NaN</td>\n",
       "    </tr>\n",
       "  </tbody>\n",
       "</table>\n",
       "</div>"
      ],
      "text/plain": [
       "           App Category       Rating Reviews                Size    Installs  \\\n",
       "count    10841    10841  9367.000000   10841               10841       10841   \n",
       "unique    9660       34          NaN    6002                 462          22   \n",
       "top     ROBLOX   FAMILY          NaN       0  Varies with device  1,000,000+   \n",
       "freq         9     1972          NaN     596                1695        1579   \n",
       "mean       NaN      NaN     4.193338     NaN                 NaN         NaN   \n",
       "std        NaN      NaN     0.537431     NaN                 NaN         NaN   \n",
       "min        NaN      NaN     1.000000     NaN                 NaN         NaN   \n",
       "25%        NaN      NaN     4.000000     NaN                 NaN         NaN   \n",
       "50%        NaN      NaN     4.300000     NaN                 NaN         NaN   \n",
       "75%        NaN      NaN     4.500000     NaN                 NaN         NaN   \n",
       "max        NaN      NaN    19.000000     NaN                 NaN         NaN   \n",
       "\n",
       "         Type  Price Content Rating Genres    Last Updated  \\\n",
       "count   10840  10841          10840  10841           10841   \n",
       "unique      3     93              6    120            1378   \n",
       "top      Free      0       Everyone  Tools  August 3, 2018   \n",
       "freq    10039  10040           8714    842             326   \n",
       "mean      NaN    NaN            NaN    NaN             NaN   \n",
       "std       NaN    NaN            NaN    NaN             NaN   \n",
       "min       NaN    NaN            NaN    NaN             NaN   \n",
       "25%       NaN    NaN            NaN    NaN             NaN   \n",
       "50%       NaN    NaN            NaN    NaN             NaN   \n",
       "75%       NaN    NaN            NaN    NaN             NaN   \n",
       "max       NaN    NaN            NaN    NaN             NaN   \n",
       "\n",
       "               Current Ver Android Ver  \n",
       "count                10833       10838  \n",
       "unique                2832          33  \n",
       "top     Varies with device  4.1 and up  \n",
       "freq                  1459        2451  \n",
       "mean                   NaN         NaN  \n",
       "std                    NaN         NaN  \n",
       "min                    NaN         NaN  \n",
       "25%                    NaN         NaN  \n",
       "50%                    NaN         NaN  \n",
       "75%                    NaN         NaN  \n",
       "max                    NaN         NaN  "
      ]
     },
     "execution_count": 13,
     "metadata": {},
     "output_type": "execute_result"
    }
   ],
   "source": [
    "#5. To get descriptive statistics information about all the columns\n",
    "df.describe(include='all')"
   ]
  },
  {
   "cell_type": "code",
   "execution_count": 14,
   "id": "a0350ef3-d5ea-40da-a3fb-97b9b2281fc3",
   "metadata": {},
   "outputs": [
    {
     "data": {
      "text/plain": [
       "Index(['App', 'Category', 'Rating', 'Reviews', 'Size', 'Installs', 'Type',\n",
       "       'Price', 'Content Rating', 'Genres', 'Last Updated', 'Current Ver',\n",
       "       'Android Ver'],\n",
       "      dtype='object')"
      ]
     },
     "execution_count": 14,
     "metadata": {},
     "output_type": "execute_result"
    }
   ],
   "source": [
    "#6. Finding total # of app titles that contains astrology\n",
    "df.columns # Gives all columns names"
   ]
  },
  {
   "cell_type": "code",
   "execution_count": 15,
   "id": "469128d8-407b-4411-a540-6dd076a507e8",
   "metadata": {},
   "outputs": [
    {
     "data": {
      "text/plain": [
       "0           Photo Editor & Candy Camera & Grid & ScrapBook\n",
       "1                                      Coloring book moana\n",
       "2        U Launcher Lite – FREE Live Cool Themes, Hide ...\n",
       "3                                    Sketch - Draw & Paint\n",
       "4                    Pixel Draw - Number Art Coloring Book\n",
       "                               ...                        \n",
       "10836                                     Sya9a Maroc - FR\n",
       "10837                     Fr. Mike Schmitz Audio Teachings\n",
       "10838                               Parkinson Exercices FR\n",
       "10839                        The SCP Foundation DB fr nn5n\n",
       "10840        iHoroscope - 2018 Daily Horoscope & Astrology\n",
       "Name: App, Length: 10841, dtype: object"
      ]
     },
     "execution_count": 15,
     "metadata": {},
     "output_type": "execute_result"
    }
   ],
   "source": [
    "df['App']  # Gives all the names of apps"
   ]
  },
  {
   "cell_type": "code",
   "execution_count": 16,
   "id": "39593a24-4129-4223-96fc-dfa8a7868e86",
   "metadata": {},
   "outputs": [
    {
     "data": {
      "text/plain": [
       "0        False\n",
       "1        False\n",
       "2        False\n",
       "3        False\n",
       "4        False\n",
       "         ...  \n",
       "10836    False\n",
       "10837    False\n",
       "10838    False\n",
       "10839    False\n",
       "10840     True\n",
       "Name: App, Length: 10841, dtype: bool"
      ]
     },
     "execution_count": 16,
     "metadata": {},
     "output_type": "execute_result"
    }
   ],
   "source": [
    "df['App'].str.contains('Astrology') # A boolean array"
   ]
  },
  {
   "cell_type": "code",
   "execution_count": 18,
   "id": "d8e1452c-a953-45bc-8285-42fd7393760f",
   "metadata": {},
   "outputs": [
    {
     "data": {
      "text/plain": [
       "1570     Horoscopes – Daily Zodiac Horoscope and Astrology\n",
       "1592                သိင်္ Astrology - Min Thein Kha BayDin\n",
       "10840        iHoroscope - 2018 Daily Horoscope & Astrology\n",
       "Name: App, dtype: object"
      ]
     },
     "execution_count": 18,
     "metadata": {},
     "output_type": "execute_result"
    }
   ],
   "source": [
    "df[df['App'].str.contains('Astrology',case=False)]['App'] # Pass the boolean array to a dataframe object"
   ]
  },
  {
   "cell_type": "code",
   "execution_count": 19,
   "id": "cc84170c-7975-45a1-99fa-5e371face239",
   "metadata": {},
   "outputs": [
    {
     "name": "stdout",
     "output_type": "stream",
     "text": [
      "Total # of apps with title that contains astrology : 3\n"
     ]
    }
   ],
   "source": [
    "num_apps = len(df[df['App'].str.contains('Astrology',case=False)]) # Lastly find the number of app title that contains astrology\n",
    "print(f'Total # of apps with title that contains astrology : {num_apps}')"
   ]
  },
  {
   "cell_type": "code",
   "execution_count": 21,
   "id": "d6fbdd51-65a6-4874-9c82-4329c634c499",
   "metadata": {},
   "outputs": [
    {
     "name": "stdout",
     "output_type": "stream",
     "text": [
      "Average app rating = 4.193338315362443\n",
      "Average app rating rounded off = 4.2\n"
     ]
    }
   ],
   "source": [
    "#7. Find the average app rating\n",
    "ave_app_rating = df['Rating'].mean()\n",
    "print(f'Average app rating = {ave_app_rating}')\n",
    "print(f'Average app rating rounded off = {round(ave_app_rating,1)}')"
   ]
  },
  {
   "cell_type": "code",
   "execution_count": 22,
   "id": "2b225e90-016e-4d8b-9ea7-b9390edb93d7",
   "metadata": {},
   "outputs": [
    {
     "name": "stdout",
     "output_type": "stream",
     "text": [
      "Total number of unique categories : 34\n"
     ]
    }
   ],
   "source": [
    "#8. Find total number of unique categories\n",
    "num_unique = df['Category'].nunique()\n",
    "print(f'Total number of unique categories : {num_unique}')"
   ]
  },
  {
   "cell_type": "code",
   "execution_count": 23,
   "id": "0a3a0126-060a-4125-8e3f-0d109d5824b6",
   "metadata": {},
   "outputs": [
    {
     "name": "stdout",
     "output_type": "stream",
     "text": [
      "ART_AND_DESIGN\n",
      "AUTO_AND_VEHICLES\n",
      "BEAUTY\n",
      "BOOKS_AND_REFERENCE\n",
      "BUSINESS\n",
      "COMICS\n",
      "COMMUNICATION\n",
      "DATING\n",
      "EDUCATION\n",
      "ENTERTAINMENT\n",
      "EVENTS\n",
      "FINANCE\n",
      "FOOD_AND_DRINK\n",
      "HEALTH_AND_FITNESS\n",
      "HOUSE_AND_HOME\n",
      "LIBRARIES_AND_DEMO\n",
      "LIFESTYLE\n",
      "GAME\n",
      "FAMILY\n",
      "MEDICAL\n",
      "SOCIAL\n",
      "SHOPPING\n",
      "PHOTOGRAPHY\n",
      "SPORTS\n",
      "TRAVEL_AND_LOCAL\n",
      "TOOLS\n",
      "PERSONALIZATION\n",
      "PRODUCTIVITY\n",
      "PARENTING\n",
      "WEATHER\n",
      "VIDEO_PLAYERS\n",
      "NEWS_AND_MAGAZINES\n",
      "MAPS_AND_NAVIGATION\n",
      "1.9\n"
     ]
    }
   ],
   "source": [
    "#9. Display the category names of the apps\n",
    "for cat_name in df['Category'].unique():\n",
    "    print(cat_name)"
   ]
  },
  {
   "cell_type": "code",
   "execution_count": 24,
   "id": "d8472d0c-cc01-4ebe-81be-b8f2ba8d1c74",
   "metadata": {},
   "outputs": [
    {
     "data": {
      "text/plain": [
       "Category\n",
       "1.9    19.0\n",
       "Name: Rating, dtype: float64"
      ]
     },
     "execution_count": 24,
     "metadata": {},
     "output_type": "execute_result"
    }
   ],
   "source": [
    "#10. Find the category that is getting the highest average rating\n",
    "# The first entry is the category with the higest average\n",
    "df.groupby('Category')['Rating'].mean().sort_values(ascending=False).head(1)"
   ]
  },
  {
   "cell_type": "code",
   "execution_count": 26,
   "id": "f38ad141-6a8f-472a-9ab0-35ef6fff66c3",
   "metadata": {},
   "outputs": [
    {
     "name": "stdout",
     "output_type": "stream",
     "text": [
      "# of apps with 5 stars ratings : 274\n"
     ]
    }
   ],
   "source": [
    "#11. Find total number of apps having 5 stars rating\n",
    "num_top_ratings = len(df[df['Rating'] == 5])\n",
    "print(f'# of apps with 5 stars ratings : {num_top_ratings}')"
   ]
  },
  {
   "cell_type": "code",
   "execution_count": 29,
   "id": "12d83a4c-95e4-470c-80e5-fb8b24ac15b4",
   "metadata": {},
   "outputs": [
    {
     "name": "stdout",
     "output_type": "stream",
     "text": [
      "Hojiboy Tojiboyev Life Hacks\n",
      "American Girls Mobile Numbers\n",
      "Awake Dating\n",
      "Spine- The dating app\n",
      "Girls Live Talk - Free Text and Video Chat\n",
      "Online Girls Chat Group\n",
      "Speeding Joyride & Car Meet App\n",
      "SUMMER SONIC app\n",
      "Prosperity\n",
      "Mindvalley U Tallinn 2018\n",
      "Eternal life\n",
      "Super Hearing Secret Voices Recorder PRO\n",
      "FHR 5-Tier 2.0\n",
      "Sway Medical\n",
      "Labs on Demand\n",
      "Dermatology Atlas (Colored & Illustrative)\n",
      "Tablet Reminder\n",
      "Galaxies of Hope\n",
      "KBA-EZ Health Guide\n",
      "FoothillsVet\n",
      "PrimeDelivery\n",
      "You're an Anime\n",
      "Anatomy & Physiology Vocabulary Exam Review App\n",
      "NCLEX Multi-topic Nursing Exam Review-Quiz & notes\n",
      "Basics of Orthopaedics\n",
      "Clinic Doctor EHr\n",
      "Sway Medical\n",
      "420 BZ Budeze Delivery\n",
      "BP Journal - Blood Pressure Diary\n",
      "Zen Leaf\n",
      "ADS-B Driver\n",
      "P-Home for KLWP\n",
      "Android P Style Icon Pack\n",
      "R Programing Offline Tutorial\n",
      "Easy Hotspot Ad Free\n",
      "Tafsiir Quraan MP3 Af Soomaali Quraanka Kariimka\n",
      "Lakeside AG Moultrie\n",
      "Eternal Light AG\n",
      "Ag Valley Cooperative\n",
      "Chenoweth AH\n",
      "Arrowhead AH App\n",
      "Kimbrough AH\n",
      "AI Today : Artificial Intelligence News & AI 101\n",
      "AJ Cam\n",
      "Hey AJ! It's Saturday!\n",
      "Selfie With Champion AJ Style\n",
      "AJ RETAILS\n",
      "Hey AJ! It's Bedtime!\n",
      "AJ Men's Grooming\n",
      "AJ Gray Dark Icon Pack\n",
      "AJ Blue Icon Pack\n",
      "AJ Rafael Music Lessons\n",
      "AP® Guide\n",
      "meStudying: AP English Lit\n",
      "AP Art History Flashcards\n",
      "AQ Ria Retail\n",
      "Accounting Quiz (AQ) Malaysia\n",
      "Wowkwis aq Ka'qaquj\n",
      "Jobs in Canada - Emplois au Canada\n",
      "Tozer Devotional -Series 1\n",
      "Food-Aw - Order Food Online in Aruba\n",
      "Axe Champs! Wars\n",
      "Flippy Axe : Flip The Knife & Axe Simulator\n",
      "A-Y Collection\n",
      "Quran Khmer Offline AY\n",
      "Ra Ga Ba\n",
      "BC MVA Fines\n",
      "Railroad Radio Vancouver BC\n",
      "iCard BD Plus\n",
      "Exam Result BD\n",
      "Helping BD\n",
      "Movement BE\n",
      "ReactNative BG Geolocation\n",
      "BG Guide\n",
      "Bh Public School\n",
      "Barbers.BH\n",
      "BI News\n",
      "Propel BI APP\n",
      "BI APP\n",
      "HON. B.J. ACS COLLEGE ALE\n",
      "BJ Foods\n",
      "Read it easy for BK\n",
      "BK Video Status\n",
      "BK Formula Calculator\n",
      "Dr Bk Sachin bhai\n",
      "BK Arogyam Task Track\n",
      "Bk Usha behn\n",
      "BK Gold App\n",
      "BL Flowers Digital\n",
      "BM SPM Practice\n",
      "BM Physiotherapy Clinic\n",
      "BM speed test\n",
      "BP Journal - Blood Pressure Diary\n",
      "BP Log lite\n",
      "MI-BP\n",
      "Bar-B-Q Rib House\n",
      "Brick Breaker BR\n",
      "COMSATS BOOK STORE FOR BS(CS)\n",
      "BS-Mobile\n",
      "Wifi BT Scanner\n",
      "Jabbla BT\n",
      "BU Study\n",
      "Barisal University App-BU Face\n",
      "Catholic La Bu Zo Kam\n",
      "BV Mobile Apps\n",
      "BV\n",
      "BV Sridhara Maharaj\n",
      "Bacterial vaginosis Treatment - Sexual disease\n",
      "BxPort - Bitcoin Bx (Thailand)\n",
      "420 BZ Budeze Delivery\n",
      "CA Speakers\n",
      "CB Fit\n",
      "CB VIDEO VISION\n",
      "C B Patel Health Club\n",
      "CB News\n",
      "CB Register\n",
      "Cb browser\n",
      "CB Heroes\n",
      "CD CHOICE TUBE\n",
      "Yazdani Cd Center EllahAbad Official App\n",
      "CE Smart\n",
      "TI-84 CE Graphing Calculator Manual TI 84\n",
      "MCQ CE IT\n",
      "CF Life\n",
      "Unity CF\n",
      "Overcomers CF - GA\n",
      "CF\n",
      "CF Townsville\n",
      "CG Prints\n",
      "CG FM\n",
      "CG - Chemistry free\n",
      "CG Jobs\n",
      "Startupticker.ch News, Events\n",
      "CI 174 Gray Icon Pack\n",
      "Trovami se ci riesci\n",
      "Nur təfsiri 1-ci cild\n",
      "CJ Gospel Hour\n",
      "CJ'S TIRE AND AUTO INC.\n",
      "The CJ Rubric\n",
      "CJ's Coffee Cafe\n",
      "Sir C J New Primary School\n",
      "CJ the REALTOR\n",
      "211:CK\n",
      "USMLE Step 2 CK Flashcards\n",
      "CK Employee Portal\n",
      "Tic Tac CK\n",
      "CL REPL\n",
      "CL Keyboard - Myanmar Keyboard (No Ads)\n",
      "CL Notifier\n",
      "Color CL\n",
      "CL Strength\n",
      "CN Resident\n",
      "Foothills CP\n",
      "CP Installer App\n",
      "CP Trivia\n",
      "CQ ESPM\n",
      "CricQuick\n",
      "iReadMe\n",
      "Cr Aviation Academy\n",
      "CR Tracker for Chests\n",
      "CS & IT Interview Questions\n",
      "CT Brain Interpretation\n",
      "CT Cervical Spine\n",
      "CARDIAC CT TECHNIQUE\n",
      "Dine In CT - Food Delivery\n",
      "CT Checkout\n",
      "Morse Player\n",
      "30WPM Amateur ham radio Koch CW Morse code trainer\n",
      "Oración CX\n",
      "cx advance call blocker\n",
      "NOMISMA.com.cy by FMW\n",
      "Cy-Fair VFD EMS Protocols\n",
      "Cy-Fair Christian Church\n",
      "CZ-Help\n",
      "CZ Kompas\n",
      "DB HOME\n",
      "DB Pickles\n",
      "Superheroes, Marvel, DC, Comics, TV, Movies News\n",
      "DC N COMPANY ENTERTAINMENT RADIO!\n",
      "DC-014\n",
      "AC DC Power Monitor\n",
      "The Divine Feminine App: the DF App\n",
      "DF Glue Board\n",
      "DG-App\n",
      "Free coupons and vouchers\n",
      "DG OFF - 100% Free Coupons & Deals\n",
      "DG TV\n",
      "DH-UFO\n",
      "D-H Pharmacy\n",
      "PK and DK Audio App\n",
      "DL Image Manager\n",
      "DM Buddy » Learn Digital Marketing\n",
      "Disciple Maker’s (DM) Lab\n",
      "DN Blog\n",
      "DN Employee\n",
      "DN Calculators\n",
      "WPBS-DT\n",
      "DT CLOTHINGS\n",
      "Dt. Jyothi Srinivas\n",
      "Spring flowers theme couleurs d t space\n",
      "DV ASSIST\n",
      "DV Youth\n",
      "DW Security\n",
      "DW Timer\n",
      "RETRO Shocked DW-6000\n",
      "Chronolink DX\n",
      "Santa's Monster Shootout DX\n",
      "Cloud DX Connected Health\n",
      "DYPSOET\n",
      "chat dz\n",
      "i am EB\n",
      "EB Scanner\n",
      "UP EB Bill Payment & Details\n",
      "EB Cash Collections\n",
      "EC Calgary\n",
      "Victoria EC\n",
      "EC SPORTS\n",
      "EC Fairgrounds\n",
      "EC Mover\n",
      "EF Events\n",
      "EF Forms\n",
      "EF App\n",
      "EF Academy\n",
      "EG India\n",
      "Eh Bee Wallpapers HD\n",
      "NEMA ei\n",
      "ei Calc\n",
      "Kolkata News:Anandbazar Patrika,ei samay&AllRating\n",
      "EJ messenger\n",
      "Master E.K\n",
      "EK Bailey Preaching Conference\n",
      "Pyaar Ek Dhoka\n",
      "Ek Bander Ne Kholi Dukan\n",
      "Hum Ek Hain 2.02\n",
      "Ek Vote\n",
      "Asha Ek Hope - ALS/ MND\n",
      "Ek Qissa He Quran Se (Qurani Waqiyat)\n",
      "Lyrics of Ek Paheli Leela\n",
      "Shabad Gurubani Punjabi mp3 free - Ek Onkar Satnam\n",
      "FAST EO\n",
      "EP Church Annapolis\n",
      "EP Radio\n",
      "ER Assist\n",
      "Dr. ES PV Calculator\n",
      "ES Billing System (Offline App)\n",
      "ES Solar\n",
      "EU Exit poll\n",
      "daskal.eu\n",
      "FA Player Essentials\n",
      "Noticias FC Barcelona\n",
      "Story Time FD\n",
      "FD Calculator (EMI, SIP, RD & Loan Eligilibility)\n",
      "Comunidad De Fe Minitries\n",
      "Safe Santa Fe\n",
      "Santa Fe Thrive\n",
      "Ríos de Fe\n",
      "Jigsaw Volvo FH 16 Trucks\n",
      "FH School\n",
      "FK CLASSIC FOR YOU\n",
      "FK Dedinje BGD\n",
      "South Florida AA Meetings\n",
      "Trinity Church Deltona, FL\n",
      "Beacon Baptist Jupiter, FL\n",
      "Florida Beach Wallpapers HD\n",
      "Florida Wildflowers\n",
      "Wallpapers FN SCAR H\n",
      "FN\n",
      "FO Bixby\n",
      "Mu.F.O.\n",
      "Mad Dash Fo' Cash\n",
      "GKPB FP Online Church\n",
      "Monster Ride Pro\n",
      "Fr. Daoud Lamei\n",
      "Fr. Mike Schmitz Audio Teachings\n"
     ]
    }
   ],
   "source": [
    "#12. Display apps with 5 star rating\n",
    "for app_name in df[df['Rating'] == 5]['App']:\n",
    "    print(app_name)"
   ]
  },
  {
   "cell_type": "code",
   "execution_count": 30,
   "id": "727702a9-d5c4-45d3-9595-3e759c7bb652",
   "metadata": {},
   "outputs": [
    {
     "data": {
      "text/plain": [
       "dtype('O')"
      ]
     },
     "execution_count": 30,
     "metadata": {},
     "output_type": "execute_result"
    }
   ],
   "source": [
    "#13. Find average value of reviews\n",
    "df['Reviews'].dtype  # Find the data type"
   ]
  },
  {
   "cell_type": "code",
   "execution_count": 31,
   "id": "0d88a070-ebc7-4efa-93c5-3a19bd4afd8e",
   "metadata": {},
   "outputs": [],
   "source": [
    "# df['Reviews'].astype('float') \n",
    "# Convert to float : this will result in an error"
   ]
  },
  {
   "cell_type": "code",
   "execution_count": 33,
   "id": "01320ad9-ab8a-402c-be66-a454c4c0775e",
   "metadata": {},
   "outputs": [
    {
     "data": {
      "text/html": [
       "<div>\n",
       "<style scoped>\n",
       "    .dataframe tbody tr th:only-of-type {\n",
       "        vertical-align: middle;\n",
       "    }\n",
       "\n",
       "    .dataframe tbody tr th {\n",
       "        vertical-align: top;\n",
       "    }\n",
       "\n",
       "    .dataframe thead th {\n",
       "        text-align: right;\n",
       "    }\n",
       "</style>\n",
       "<table border=\"1\" class=\"dataframe\">\n",
       "  <thead>\n",
       "    <tr style=\"text-align: right;\">\n",
       "      <th></th>\n",
       "      <th>App</th>\n",
       "      <th>Category</th>\n",
       "      <th>Rating</th>\n",
       "      <th>Reviews</th>\n",
       "      <th>Size</th>\n",
       "      <th>Installs</th>\n",
       "      <th>Type</th>\n",
       "      <th>Price</th>\n",
       "      <th>Content Rating</th>\n",
       "      <th>Genres</th>\n",
       "      <th>Last Updated</th>\n",
       "      <th>Current Ver</th>\n",
       "      <th>Android Ver</th>\n",
       "    </tr>\n",
       "  </thead>\n",
       "  <tbody>\n",
       "    <tr>\n",
       "      <th>10472</th>\n",
       "      <td>Life Made WI-Fi Touchscreen Photo Frame</td>\n",
       "      <td>1.9</td>\n",
       "      <td>19.0</td>\n",
       "      <td>3.0M</td>\n",
       "      <td>1,000+</td>\n",
       "      <td>Free</td>\n",
       "      <td>0</td>\n",
       "      <td>Everyone</td>\n",
       "      <td>NaN</td>\n",
       "      <td>February 11, 2018</td>\n",
       "      <td>1.0.19</td>\n",
       "      <td>4.0 and up</td>\n",
       "      <td>NaN</td>\n",
       "    </tr>\n",
       "  </tbody>\n",
       "</table>\n",
       "</div>"
      ],
      "text/plain": [
       "                                           App Category  Rating Reviews  \\\n",
       "10472  Life Made WI-Fi Touchscreen Photo Frame      1.9    19.0    3.0M   \n",
       "\n",
       "         Size Installs Type     Price Content Rating             Genres  \\\n",
       "10472  1,000+     Free    0  Everyone            NaN  February 11, 2018   \n",
       "\n",
       "      Last Updated Current Ver Android Ver  \n",
       "10472       1.0.19  4.0 and up         NaN  "
      ]
     },
     "execution_count": 33,
     "metadata": {},
     "output_type": "execute_result"
    }
   ],
   "source": [
    "df[df['Reviews']=='3.0M']  # Find the row with 3.0M reviews"
   ]
  },
  {
   "cell_type": "code",
   "execution_count": 34,
   "id": "372b565e-0dc4-4f39-a634-5693938af340",
   "metadata": {},
   "outputs": [],
   "source": [
    "#13. Resolve the error by convert 3.0M to 3 000 000\n",
    "df['Reviews'] = df['Reviews'].replace('3.0M',3.0 * 1000000)"
   ]
  },
  {
   "cell_type": "code",
   "execution_count": 36,
   "id": "cb16a279-9b6a-4775-ad54-af96415145d4",
   "metadata": {},
   "outputs": [],
   "source": [
    "#13. Convert the data type permanently to float\n",
    "df['Reviews'] = df['Reviews'].astype('float') "
   ]
  },
  {
   "cell_type": "code",
   "execution_count": 37,
   "id": "61b80dbc-d8a5-4596-9124-bf59778328aa",
   "metadata": {},
   "outputs": [
    {
     "name": "stdout",
     "output_type": "stream",
     "text": [
      "Average Value of Reviews : 444388.6535374965\n",
      "Average Value of Reviews (rounded off) : 444388.65\n"
     ]
    }
   ],
   "source": [
    "ave_reviews = df['Reviews'].mean()\n",
    "print(f'Average Value of Reviews : {ave_reviews}')\n",
    "print(f'Average Value of Reviews (rounded off) : {round(ave_reviews,2)}')"
   ]
  },
  {
   "cell_type": "code",
   "execution_count": 39,
   "id": "deeb3364-f0c5-479d-a926-52271b09bc36",
   "metadata": {},
   "outputs": [
    {
     "name": "stdout",
     "output_type": "stream",
     "text": [
      "Number of paid and free apps : Type\n",
      "Free    10039\n",
      "Paid      800\n",
      "0           1\n",
      "Name: count, dtype: int64\n"
     ]
    }
   ],
   "source": [
    "#14. Find the number of paid and free apps\n",
    "total_num_apps = df['Type'].value_counts()\n",
    "print(f'Number of paid and free apps : {total_num_apps}')"
   ]
  },
  {
   "cell_type": "code",
   "execution_count": 42,
   "id": "ee3d19ed-cea7-4711-8e26-ceb6bc1817ad",
   "metadata": {},
   "outputs": [
    {
     "data": {
      "text/plain": [
       "2544    Facebook\n",
       "Name: App, dtype: object"
      ]
     },
     "execution_count": 42,
     "metadata": {},
     "output_type": "execute_result"
    }
   ],
   "source": [
    "#15. Find an app that has maximum reviews\n",
    "df[df['Reviews'].max() == df['Reviews']]['App']"
   ]
  },
  {
   "cell_type": "code",
   "execution_count": 43,
   "id": "a1dec7a5-3f0c-4180-8811-daba0e0ac564",
   "metadata": {},
   "outputs": [
    {
     "name": "stdout",
     "output_type": "stream",
     "text": [
      "App with maximum reviews : \n",
      " 2544    Facebook\n",
      "Name: App, dtype: object\n"
     ]
    }
   ],
   "source": [
    "app_name = df[df['Reviews'].max() == df['Reviews']]['App']\n",
    "print(f'App with maximum reviews : \\n {app_name}')"
   ]
  },
  {
   "cell_type": "code",
   "execution_count": 91,
   "id": "1d61bc23-bfe2-470c-84bb-8aa6678e47e1",
   "metadata": {},
   "outputs": [
    {
     "data": {
      "text/plain": [
       "2544    78158306.0\n",
       "3943    78128208.0\n",
       "336     69119316.0\n",
       "381     69119316.0\n",
       "3904    69109672.0\n",
       "Name: Reviews, dtype: float64"
      ]
     },
     "execution_count": 91,
     "metadata": {},
     "output_type": "execute_result"
    }
   ],
   "source": [
    "#16. Find the top 5 apps with maximum reviews\n",
    "df['Reviews'].sort_values(ascending=False).head()"
   ]
  },
  {
   "cell_type": "code",
   "execution_count": 44,
   "id": "619b858e-ff20-406b-afdf-1103233ead63",
   "metadata": {},
   "outputs": [
    {
     "name": "stdout",
     "output_type": "stream",
     "text": [
      "Index([2544, 3943, 336, 381, 3904], dtype='int64')\n"
     ]
    }
   ],
   "source": [
    "indices = df['Reviews'].sort_values(ascending=False).head().index\n",
    "print(indices)"
   ]
  },
  {
   "cell_type": "code",
   "execution_count": 45,
   "id": "24ee2ce0-b914-41dc-a5cb-6956368c9b76",
   "metadata": {},
   "outputs": [
    {
     "name": "stdout",
     "output_type": "stream",
     "text": [
      "Top 5 apps with maximum reviews : \n",
      "['Facebook' 'WhatsApp Messenger']\n"
     ]
    }
   ],
   "source": [
    "top_max_reviews = df.iloc[indices]['App'].unique()\n",
    "print(f'Top 5 apps with maximum reviews : \\n{top_max_reviews}')"
   ]
  },
  {
   "cell_type": "code",
   "execution_count": 46,
   "id": "41e1ceb1-cf97-44db-8817-1876045a7276",
   "metadata": {},
   "outputs": [
    {
     "data": {
      "text/plain": [
       "Type\n",
       "0       19.000000\n",
       "Free     4.186203\n",
       "Paid     4.266615\n",
       "Name: Rating, dtype: float64"
      ]
     },
     "execution_count": 46,
     "metadata": {},
     "output_type": "execute_result"
    }
   ],
   "source": [
    "#17. Find average rating of free and paid apps\n",
    "df.groupby(\"Type\")[\"Rating\"].mean()"
   ]
  },
  {
   "cell_type": "code",
   "execution_count": 98,
   "id": "170be98d-ed4a-4ef6-a110-5a7fda142c9e",
   "metadata": {},
   "outputs": [
    {
     "data": {
      "text/plain": [
       "array(['Free', 'Paid', nan, '0'], dtype=object)"
      ]
     },
     "execution_count": 98,
     "metadata": {},
     "output_type": "execute_result"
    }
   ],
   "source": [
    "df['Type'].unique()"
   ]
  },
  {
   "cell_type": "code",
   "execution_count": 47,
   "id": "61876c0d-7f58-43c7-8b50-2d0c31330bf1",
   "metadata": {},
   "outputs": [],
   "source": [
    "#18. Display top 5 apps having maximum installs\n",
    "df[\"Installs_1\"]=df[\"Installs\"].str.replace(\",\",\"\")"
   ]
  },
  {
   "cell_type": "code",
   "execution_count": 48,
   "id": "ad732cf1-da69-42c1-8067-5174e64496bf",
   "metadata": {},
   "outputs": [],
   "source": [
    "df['Installs_1']=df['Installs_1'].str.replace(\"+\",\"\")"
   ]
  },
  {
   "cell_type": "code",
   "execution_count": 51,
   "id": "3f843352-774e-424b-9d84-99e8b167b38e",
   "metadata": {},
   "outputs": [
    {
     "data": {
      "text/plain": [
       "0           10000\n",
       "1          500000\n",
       "2         5000000\n",
       "3        50000000\n",
       "4          100000\n",
       "           ...   \n",
       "10836        5000\n",
       "10837         100\n",
       "10838        1000\n",
       "10839        1000\n",
       "10840    10000000\n",
       "Name: Installs_1, Length: 10841, dtype: object"
      ]
     },
     "execution_count": 51,
     "metadata": {},
     "output_type": "execute_result"
    }
   ],
   "source": [
    "df['Installs_1']"
   ]
  },
  {
   "cell_type": "code",
   "execution_count": 52,
   "id": "22daafb9-94b6-4e67-98f4-7b8a29979e4f",
   "metadata": {},
   "outputs": [],
   "source": [
    "df[\"Installs_1\"]=df[\"Installs_1\"].str.replace(\"Free\",\"0\")"
   ]
  },
  {
   "cell_type": "code",
   "execution_count": 53,
   "id": "0ffae6f5-f6a6-490d-aa0c-c0e6e72534a7",
   "metadata": {},
   "outputs": [],
   "source": [
    "df[\"Installs_1\"]=df[\"Installs_1\"].astype(\"int\")"
   ]
  },
  {
   "cell_type": "code",
   "execution_count": 54,
   "id": "55d16886-44b4-454d-9615-a4c4e8d7798c",
   "metadata": {},
   "outputs": [
    {
     "data": {
      "text/plain": [
       "dtype('int32')"
      ]
     },
     "execution_count": 54,
     "metadata": {},
     "output_type": "execute_result"
    }
   ],
   "source": [
    "df[\"Installs_1\"].dtype"
   ]
  },
  {
   "cell_type": "code",
   "execution_count": 55,
   "id": "e57cf442-e390-49dc-b4ba-20510d8d44fa",
   "metadata": {},
   "outputs": [
    {
     "data": {
      "text/plain": [
       "3896                              Subway Surfers\n",
       "3943                                    Facebook\n",
       "335     Messenger – Text and Video Chat for Free\n",
       "3523                                Google Drive\n",
       "3565                                Google Drive\n",
       "Name: App, dtype: object"
      ]
     },
     "execution_count": 55,
     "metadata": {},
     "output_type": "execute_result"
    }
   ],
   "source": [
    "indices=df[\"Installs_1\"].sort_values(ascending=False).head().index\n",
    "df.loc[indices][\"App\"]"
   ]
  },
  {
   "cell_type": "code",
   "execution_count": null,
   "id": "1f985b52-598b-453d-abf4-66b9c983bbf7",
   "metadata": {},
   "outputs": [],
   "source": []
  },
  {
   "cell_type": "code",
   "execution_count": null,
   "id": "34b3bae8-d0ca-4b26-af2c-965ab6a0f452",
   "metadata": {},
   "outputs": [
    {
     "name": "stdout",
     "output_type": "stream",
     "text": [
      "Indices of top 5 apps with max installs : Index([10472, 420, 474, 3767, 3574], dtype='int64')\n"
     ]
    }
   ],
   "source": [
    "max_install_indices = df['Installs'].sort_values(ascending=False).head().index\n",
    "print(f'Indices of top 5 apps with max installs : {max_install_indices}')"
   ]
  },
  {
   "cell_type": "code",
   "execution_count": 112,
   "id": "97258944-02f5-4b96-b008-6b8177bff0eb",
   "metadata": {},
   "outputs": [
    {
     "name": "stdout",
     "output_type": "stream",
     "text": [
      "Top 5 apps with maximum installs : \n",
      " 10472        Life Made WI-Fi Touchscreen Photo Frame\n",
      "420      UC Browser - Fast Download Private & Secure\n",
      "474                      LINE: Free Calls & Messages\n",
      "3767                    Flipboard: News For Our Time\n",
      "3574                                     Cloud Print\n",
      "Name: App, dtype: object\n"
     ]
    }
   ],
   "source": [
    "top_max_installs = df.iloc[max_install_indices]['App']\n",
    "print(f'Top 5 apps with maximum installs : \\n {top_max_installs}')"
   ]
  },
  {
   "cell_type": "code",
   "execution_count": null,
   "id": "2b86fd79-f958-47de-81a3-254fe00f8fb4",
   "metadata": {},
   "outputs": [],
   "source": []
  }
 ],
 "metadata": {
  "kernelspec": {
   "display_name": "env",
   "language": "python",
   "name": "env"
  },
  "language_info": {
   "codemirror_mode": {
    "name": "ipython",
    "version": 3
   },
   "file_extension": ".py",
   "mimetype": "text/x-python",
   "name": "python",
   "nbconvert_exporter": "python",
   "pygments_lexer": "ipython3",
   "version": "3.12.3"
  }
 },
 "nbformat": 4,
 "nbformat_minor": 5
}
